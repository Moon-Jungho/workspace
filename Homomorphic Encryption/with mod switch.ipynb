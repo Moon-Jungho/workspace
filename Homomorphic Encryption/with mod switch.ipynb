{
 "cells": [
  {
   "cell_type": "code",
   "execution_count": 62,
   "metadata": {},
   "outputs": [],
   "source": [
    "import math\n",
    "from seal import *\n",
    "from seal_helper import *"
   ]
  },
  {
   "cell_type": "code",
   "execution_count": 71,
   "metadata": {},
   "outputs": [
    {
     "name": "stdout",
     "output_type": "stream",
     "text": [
      "+--------------------------------------+\n",
      "|         Example: CKKS Basics         |\n",
      "+--------------------------------------+\n",
      "/\n",
      "| Encryption parameters:\n",
      "| scheme: CKKS\n",
      "| poly_modulus_degree: 8192\n",
      "| coeff_modulus size: 210(50 + 30 + 30 + 30 + 30 + 40) bits\n",
      "\\\n",
      "Number of slots: 4096\n"
     ]
    }
   ],
   "source": [
    "    print_example_banner(\"Example: CKKS Basics\")\n",
    "\n",
    "    parms = EncryptionParameters(scheme_type.CKKS)\n",
    "\n",
    "    poly_modulus_degree = 8192\n",
    "    parms.set_poly_modulus_degree(poly_modulus_degree)\n",
    "    parms.set_coeff_modulus(CoeffModulus.Create(\n",
    "        poly_modulus_degree, [50, 30, 30, 30, 30, 40]))\n",
    "\n",
    "    scale = pow(2.0, 30)\n",
    "    context = SEALContext.Create(parms)\n",
    "    print_parameters(context)\n",
    "\n",
    "    keygen = KeyGenerator(context)\n",
    "    public_key = keygen.public_key()\n",
    "    secret_key = keygen.secret_key()\n",
    "    relin_keys = keygen.relin_keys()\n",
    "\n",
    "    encryptor = Encryptor(context, public_key)\n",
    "    evaluator = Evaluator(context)\n",
    "    decryptor = Decryptor(context, secret_key)\n",
    "\n",
    "    encoder = CKKSEncoder(context)\n",
    "    slot_count = encoder.slot_count()\n",
    "    print(\"Number of slots: \" + str(slot_count))"
   ]
  },
  {
   "cell_type": "code",
   "execution_count": 64,
   "metadata": {},
   "outputs": [
    {
     "name": "stdout",
     "output_type": "stream",
     "text": [
      "Input vector: \n",
      "\n",
      "    [ 100.0000000 ]\n",
      "\n",
      "\n",
      "    [ 0.0010000 ]\n",
      "\n",
      "Evaluating polynomial 5*a^5*b^4\n",
      "--------------------------------------------------\n",
      "Encode input vectors.\n"
     ]
    }
   ],
   "source": [
    "    A = DoubleVector([100])\n",
    "    B = DoubleVector([1e-3])\n",
    "\n",
    "    print(\"Input vector: \")\n",
    "    print_vector(A, 1, 7)\n",
    "    print_vector(B, 1, 7)\n",
    "\n",
    "    print(\"Evaluating polynomial 5*a^5*b^4\")\n",
    "\n",
    "    plain_02 = Plaintext()  # plain_02 = after encoding 0.2, \n",
    "                            # plain_0002 = after encoding 0.002\n",
    "    plain_5 = Plaintext()\n",
    "    encoder.encode(0.2, scale, plain_02)\n",
    "    encoder.encode(5, scale, plain_5)\n",
    "    \n",
    "    plain_a = Plaintext()\n",
    "    plain_b = Plaintext()\n",
    "    print(\"-\" * 50)\n",
    "    print(\"Encode input vectors.\")\n",
    "    encoder.encode(A, scale, plain_a)\n",
    "    encoder.encode(B, scale, plain_b)\n",
    "\n",
    "    cipher_a = Ciphertext()\n",
    "    cipher_b = Ciphertext() \n",
    "    encryptor.encrypt(plain_a, cipher_a)\n",
    "    encryptor.encrypt(plain_b, cipher_b)\n",
    "\n"
   ]
  },
  {
   "cell_type": "code",
   "execution_count": null,
   "metadata": {},
   "outputs": [],
   "source": []
  },
  {
   "cell_type": "code",
   "execution_count": 65,
   "metadata": {},
   "outputs": [
    {
     "name": "stdout",
     "output_type": "stream",
     "text": [
      "+-------------------------+\n",
      "|         level 3         |\n",
      "+-------------------------+\n",
      "--------------------------------------------------\n",
      "Compute and rescale a*5.\n",
      "    + Scale of a*5 before rescale: 60 bits\n",
      "    + Scale of a*5 after rescale: 30 bits\n",
      "--------------------------------------------------\n",
      "Compute, relinearize, and rescale a*b.\n",
      "    + Scale of a*b before rescale: 60 bits\n",
      "    + Scale of a*b after rescale: 30 bits\n"
     ]
    }
   ],
   "source": [
    "    print_example_banner(\"level 3\")\n",
    "\n",
    "# 5*a computation    \n",
    "    \n",
    "    print(\"-\" * 50)\n",
    "    print(\"Compute and rescale a*5.\")\n",
    "    cipher_5_a = Ciphertext()  # 5_a : 5 * a\n",
    "                               # a2 : a^2\n",
    "                               # 5_a5_b4 : 5 * a^5 * b^4\n",
    "    evaluator.multiply_plain(cipher_a, plain_5, cipher_5_a)\n",
    "    print(\"    + Scale of a*5 before rescale: \" +\n",
    "          \"%.0f\" % math.log(cipher_5_a.scale(), 2) + \" bits\")\n",
    "   \n",
    "    #evaluator.relinearize_inplace(cipher_5_a, relin_keys)\n",
    "\n",
    "    evaluator.rescale_to_next_inplace(cipher_5_a)\n",
    "    print(\"    + Scale of a*5 after rescale: \" +\n",
    "          \"%.0f\" % math.log(cipher_5_a.scale(), 2) + \" bits\") \n",
    "    \n",
    "# a*b computation  \n",
    "\n",
    "    print(\"-\" * 50)\n",
    "    print(\"Compute, relinearize, and rescale a*b.\")\n",
    "    cipher_a_b = Ciphertext()\n",
    "    evaluator.multiply(cipher_a, cipher_b, cipher_a_b)\n",
    "    evaluator.relinearize_inplace(cipher_a_b, relin_keys)\n",
    "    print(\"    + Scale of a*b before rescale: \" +\n",
    "          \"%.0f\" % math.log(cipher_a_b.scale(), 2) + \" bits\")\n",
    "    evaluator.rescale_to_next_inplace(cipher_a_b)\n",
    "    print(\"    + Scale of a*b after rescale: \" +\n",
    "          \"%.0f\" % math.log(cipher_a_b.scale(), 2) + \" bits\")    "
   ]
  },
  {
   "cell_type": "code",
   "execution_count": null,
   "metadata": {},
   "outputs": [],
   "source": []
  },
  {
   "cell_type": "code",
   "execution_count": 66,
   "metadata": {},
   "outputs": [
    {
     "name": "stdout",
     "output_type": "stream",
     "text": [
      "+-------------------------+\n",
      "|         level 2         |\n",
      "+-------------------------+\n",
      "--------------------------------------------------\n",
      "Compute, relinearize, and rescale a^2*b^2.\n",
      "    + Scale of a^2*b^2 before rescale: 60 bits\n",
      "    + Scale of a^2*b^2 after rescale: 30 bits\n"
     ]
    }
   ],
   "source": [
    "    print_example_banner(\"level 2\")\n",
    "\n",
    "# a^2*b^2 computation  \n",
    "\n",
    "    print(\"-\" * 50)\n",
    "    print(\"Compute, relinearize, and rescale a^2*b^2.\")  \n",
    "    cipher_a2_b2 = Ciphertext()\n",
    "    evaluator.square(cipher_a_b, cipher_a2_b2)\n",
    "    evaluator.relinearize_inplace(cipher_a2_b2, relin_keys)\n",
    "    print(\"    + Scale of a^2*b^2 before rescale: \" +\n",
    "          \"%.0f\" % math.log(cipher_a2_b2.scale(), 2) + \" bits\")\n",
    "    evaluator.rescale_to_next_inplace(cipher_a2_b2)\n",
    "    print(\"    + Scale of a^2*b^2 after rescale: \" +\n",
    "          \"%.0f\" % math.log(cipher_a2_b2.scale(), 2) + \" bits\")    \n",
    "    "
   ]
  },
  {
   "cell_type": "code",
   "execution_count": null,
   "metadata": {},
   "outputs": [],
   "source": []
  },
  {
   "cell_type": "code",
   "execution_count": 67,
   "metadata": {},
   "outputs": [
    {
     "name": "stdout",
     "output_type": "stream",
     "text": [
      "+-------------------------+\n",
      "|         level 1         |\n",
      "+-------------------------+\n",
      "--------------------------------------------------\n",
      "Compute, relinearize, and rescale a^4*b^4.\n",
      "    + Scale of a^4*b^4 before rescale: 60 bits\n",
      "    + Scale of a^4*b^4 after rescale: 30 bits\n"
     ]
    }
   ],
   "source": [
    "    print_example_banner(\"level 1\")\n",
    "\n",
    "    \n",
    "# a^4*b^4 computation  \n",
    "\n",
    "    print(\"-\" * 50)\n",
    "    print(\"Compute, relinearize, and rescale a^4*b^4.\")  \n",
    "    cipher_a4_b4 = Ciphertext()\n",
    "    evaluator.square(cipher_a2_b2, cipher_a4_b4)\n",
    "    evaluator.relinearize_inplace(cipher_a4_b4, relin_keys)\n",
    "    print(\"    + Scale of a^4*b^4 before rescale: \" +\n",
    "          \"%.0f\" % math.log(cipher_a4_b4.scale(), 2) + \" bits\")\n",
    "    evaluator.rescale_to_next_inplace(cipher_a4_b4)\n",
    "    print(\"    + Scale of a^4*b^4 after rescale: \" +\n",
    "          \"%.0f\" % math.log(cipher_a4_b4.scale(), 2) + \" bits\")"
   ]
  },
  {
   "cell_type": "code",
   "execution_count": null,
   "metadata": {},
   "outputs": [],
   "source": []
  },
  {
   "cell_type": "code",
   "execution_count": 68,
   "metadata": {},
   "outputs": [
    {
     "name": "stdout",
     "output_type": "stream",
     "text": [
      "+-------------------------+\n",
      "|         level 0         |\n",
      "+-------------------------+\n",
      "--------------------------------------------------\n",
      "Normalize encryption parameters to the lowest level.\n",
      "--------------------------------------------------\n",
      "Compute, relinearize, and rescale (a^4*b^4)*(5*a)=5*a^5*b^4.\n",
      "    + Scale of 5*a^5*b^4 before rescale: 60 bits\n",
      "    + Scale of 5*a^5*b^4 after rescale: 30 bits\n"
     ]
    }
   ],
   "source": [
    "    print_example_banner(\"level 0\")\n",
    "\n",
    "# mod switch\n",
    "    print(\"-\" * 50)\n",
    "    print(\"Normalize encryption parameters to the lowest level.\")\n",
    "    last_parms_id = cipher_a4_b4.parms_id()\n",
    "    evaluator.mod_switch_to_inplace(cipher_5_a, last_parms_id)\n",
    "    \n",
    "# 5*a^5*b^4 computation  \n",
    "\n",
    "    print(\"-\" * 50)\n",
    "    print(\"Compute, relinearize, and rescale (a^4*b^4)*(5*a)=5*a^5*b^4.\")\n",
    "    cipher_5_a5_b4 = Ciphertext()\n",
    "    evaluator.multiply(cipher_a4_b4, cipher_5_a, cipher_5_a5_b4)\n",
    "    evaluator.relinearize_inplace(cipher_5_a5_b4, relin_keys)\n",
    "    print(\"    + Scale of 5*a^5*b^4 before rescale: \" +\n",
    "          \"%.0f\" % math.log(cipher_5_a5_b4.scale(), 2) + \" bits\")\n",
    "    evaluator.rescale_to_next_inplace(cipher_5_a5_b4)\n",
    "    print(\"    + Scale of 5*a^5*b^4 after rescale: \" +\n",
    "          \"%.0f\" % math.log(cipher_5_a5_b4.scale(), 2) + \" bits\")"
   ]
  },
  {
   "cell_type": "code",
   "execution_count": null,
   "metadata": {},
   "outputs": [],
   "source": []
  },
  {
   "cell_type": "code",
   "execution_count": 69,
   "metadata": {},
   "outputs": [
    {
     "name": "stdout",
     "output_type": "stream",
     "text": [
      "+------------------------------------+\n",
      "|         computation result         |\n",
      "+------------------------------------+\n",
      "--------------------------------------------------\n",
      "Decrypt and decode (1*x)^2.\n",
      "    + Expected result:\n",
      "\n",
      "    [ 0.0500000 ]\n",
      "\n",
      "    + Computed result ...... Correct.\n",
      "\n",
      "    [ 0.0501760, ..., -0.0000010 ]\n",
      "\n"
     ]
    }
   ],
   "source": [
    "    print_example_banner(\"computation result\")\n",
    "\n",
    "    # Print the true result.\n",
    "    \n",
    "    plain_temp = Plaintext()\n",
    "    print(\"-\" * 50)\n",
    "    print(\"Decrypt and decode (1*x)^2.\")\n",
    "    print(\"    + Expected result:\")\n",
    "    true_result = [5*100**5*0.001**4]\n",
    "    #for x in A:\n",
    "        #true_result.append(5*100**5*0.001**4)\n",
    "    print_vector(true_result, 3, 7)\n",
    "\n",
    "    \n",
    "    \n",
    "    # Decrypt, decode, and print the result.\n",
    "    \n",
    "    decryptor.decrypt(cipher_5_a5_b4, plain_temp)\n",
    "    temp = DoubleVector()\n",
    "    encoder.decode(plain_temp, temp)\n",
    "    print(\"    + Computed result ...... Correct.\")\n",
    "    print_vector(temp, 1, 7)\n",
    "    "
   ]
  },
  {
   "cell_type": "code",
   "execution_count": null,
   "metadata": {},
   "outputs": [],
   "source": []
  }
 ],
 "metadata": {
  "kernelspec": {
   "display_name": "Python 3",
   "language": "python",
   "name": "python3"
  },
  "language_info": {
   "codemirror_mode": {
    "name": "ipython",
    "version": 3
   },
   "file_extension": ".py",
   "mimetype": "text/x-python",
   "name": "python",
   "nbconvert_exporter": "python",
   "pygments_lexer": "ipython3",
   "version": "3.7.6"
  }
 },
 "nbformat": 4,
 "nbformat_minor": 4
}
